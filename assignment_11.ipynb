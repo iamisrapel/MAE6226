{
 "cells": [
  {
   "cell_type": "code",
   "execution_count": 1,
   "metadata": {
    "collapsed": true
   },
   "outputs": [],
   "source": [
    "import numpy\n",
    "import math\n",
    "from scipy import integrate\n",
    "from matplotlib import pyplot\n",
    "%matplotlib inline"
   ]
  },
  {
   "cell_type": "code",
   "execution_count": 2,
   "metadata": {
    "collapsed": true
   },
   "outputs": [],
   "source": [
    "class Panel:\n",
    "    \"\"\"Contains information related to one panel.\"\"\"\n",
    "    def __init__(self, xa, ya, xb, yb):\n",
    "        \"\"\"Creates a panel.\n",
    "        \n",
    "        Arguments\n",
    "        ---------\n",
    "        xa, ya -- Cartesian coordinates of the first end-point.\n",
    "        xb, yb -- Cartesian coordinates of the second end-point.\n",
    "        \"\"\"\n",
    "        self.xa, self.ya = xa, ya\n",
    "        self.xb, self.yb = xb, yb\n",
    "        \n",
    "        self.xc, self.yc = (xa+xb)/2, (ya+yb)/2       # control-point (center-point)\n",
    "        self.length = math.sqrt((xb-xa)**2+(yb-ya)**2)     # length of the panel\n",
    "        \n",
    "        # orientation of the panel (angle between x-axis and panel's normal)\n",
    "        if xb-xa <= 0.:\n",
    "            self.beta = math.acos((yb-ya)/self.length)\n",
    "        elif xb-xa > 0.:\n",
    "            self.beta = math.pi + math.acos(-(yb-ya)/self.length)\n",
    "        \n",
    "        # location of the panel\n",
    "        if self.beta <= math.pi:\n",
    "            self.loc = 'extrados'\n",
    "        else:\n",
    "            self.loc = 'intrados'\n",
    "        \n",
    "        self.sigma = 0.                             # source strength\n",
    "        self.vt = 0.                                # tangential velocity\n",
    "        self.cp = 0.                                # pressure coefficient"
   ]
  },
  {
   "cell_type": "code",
   "execution_count": 3,
   "metadata": {
    "collapsed": true
   },
   "outputs": [],
   "source": [
    "class Freestream:\n",
    "    \"\"\"Freestream conditions.\"\"\"\n",
    "    def __init__(self, u_inf, alpha):\n",
    "        \"\"\"Sets the freestream conditions.\n",
    "        \n",
    "        Arguments\n",
    "        ---------\n",
    "        u_inf -- Farfield speed (default 1.0).\n",
    "        alpha -- Angle of attack in degrees (default 0.0).\n",
    "        \"\"\"\n",
    "        self.u_inf = u_inf\n",
    "        self.alpha = alpha*math.pi/180          # degrees --> radians"
   ]
  },
  {
   "cell_type": "code",
   "execution_count": 40,
   "metadata": {
    "collapsed": true
   },
   "outputs": [],
   "source": [
    "def define_panels(x, y, N):\n",
    "    \"\"\"Discretizes the geometry into panels using input arrays for the ends of the panels.\n",
    "    \n",
    "    Arguments\n",
    "    ---------\n",
    "    x, y -- Cartesian coordinates of the panel endpoints.\n",
    "    N - number of panels.\n",
    "    \n",
    "    Returns\n",
    "    -------\n",
    "    panels -- Numpy array of panels.\n",
    "    \"\"\"\n",
    "    x_ends, y_ends = x, y\n",
    "    panels = numpy.empty(N, dtype=object)\n",
    "    \n",
    "    for i in range(N):\n",
    "        panels[i] = Panel(x_ends[i], y_ends[i], x_ends[i+1], y_ends[i+1])\n",
    "    \n",
    "    return panels"
   ]
  },
  {
   "cell_type": "code",
   "execution_count": 5,
   "metadata": {
    "collapsed": true
   },
   "outputs": [],
   "source": [
    "def integral(x, y, panel, dxdz, dydz):\n",
    "    \"\"\"Evaluates the contribution of a panel at one point.\n",
    "    \n",
    "    Arguments\n",
    "    ---------\n",
    "    x, y -- Cartesian coordinates of the point.\n",
    "    panel -- panel which contribution is evaluated.\n",
    "    dxdz -- derivative of x in the z-direction.\n",
    "    dydz -- derivative of y in the z-direction.\n",
    "    \n",
    "    Returns\n",
    "    -------\n",
    "    Integral over the panel of the influence at one point.\n",
    "    \"\"\"\n",
    "    def func(s):\n",
    "        return ( ((x - (panel.xa - math.sin(panel.beta)*s))*dxdz \n",
    "                  + (y - (panel.ya + math.cos(panel.beta)*s))*dydz)\n",
    "                / ((x - (panel.xa - math.sin(panel.beta)*s))**2 \n",
    "                   + (y - (panel.ya + math.cos(panel.beta)*s))**2) )\n",
    "    return integrate.quad(lambda s:func(s), 0., panel.length)[0]"
   ]
  },
  {
   "cell_type": "code",
   "execution_count": 6,
   "metadata": {
    "collapsed": true
   },
   "outputs": [],
   "source": [
    "def build_rhs(panels, freestream):\n",
    "    \"\"\"Builds the RHS of the linear system.\n",
    "    \n",
    "    Arguments\n",
    "    ---------\n",
    "    panels -- array of panels.\n",
    "    freestream -- farfield conditions.\n",
    "    \n",
    "    Returns\n",
    "    -------\n",
    "    b -- 1D array ((N+2), N is the number of panels).\n",
    "    \"\"\"\n",
    "    N = len(panels)\n",
    "    b = numpy.empty(N+2,dtype=float)\n",
    "    \n",
    "    for i, panel in enumerate(panels):\n",
    "        b[i] = - freestream.u_inf * math.cos(freestream.alpha - panel.beta)\n",
    "    \n",
    "    b[N] = -freestream.u_inf*( math.sin(freestream.alpha-panels[0].beta)\n",
    "                              +math.sin(freestream.alpha-panels[(N/2)-1].beta) )\n",
    "    b[N+1] = -freestream.u_inf*( math.sin(freestream.alpha-panels[(N/2)].beta)\n",
    "                              +math.sin(freestream.alpha-panels[N-1].beta) )\n",
    "    \n",
    "    return b"
   ]
  },
  {
   "cell_type": "code",
   "execution_count": 7,
   "metadata": {
    "collapsed": true
   },
   "outputs": [],
   "source": [
    "def get_tangential_velocity(panels, freestream, gamma, At):\n",
    "    \"\"\"Computes the tangential velocity on the surface.\n",
    "    \n",
    "    Arguments\n",
    "    ---------\n",
    "    panels -- array of panels.\n",
    "    freestream -- farfield conditions.\n",
    "    gamma -- circulation density.\n",
    "    \"\"\"\n",
    "    N = len(panels)\n",
    "    \n",
    "    var = numpy.append([panel.sigma for panel in panels], gamma)\n",
    "    \n",
    "    b = freestream.u_inf * numpy.sin([freestream.alpha - panel.beta for panel in panels])\n",
    "    vt = numpy.dot(At, var) + b\n",
    "    \n",
    "    for i, panel in enumerate(panels):\n",
    "        panel.vt = vt[i]"
   ]
  },
  {
   "cell_type": "code",
   "execution_count": 8,
   "metadata": {
    "collapsed": true
   },
   "outputs": [],
   "source": [
    "def get_pressure_coefficient(panels, freestream):\n",
    "    \"\"\"Computes the surface pressure coefficients.\n",
    "    \n",
    "    Arguments\n",
    "    ---------\n",
    "    panels -- array of panels.\n",
    "    freestream -- farfield conditions.\n",
    "    \"\"\"\n",
    "    for panel in panels:\n",
    "        panel.cp = 1.0 - (panel.vt/freestream.u_inf)**2\n"
   ]
  },
  {
   "cell_type": "code",
   "execution_count": 9,
   "metadata": {
    "collapsed": true
   },
   "outputs": [],
   "source": [
    "def get_velocity_field(panels, freestream, X, Y):\n",
    "    \"\"\"Returns the velocity field.\n",
    "    \n",
    "    Arguments\n",
    "    ---------\n",
    "    panels -- array of panels.\n",
    "    freestream -- farfield conditions.\n",
    "    X, Y -- mesh grid.\n",
    "    \"\"\"\n",
    "    Nx, Ny = X.shape\n",
    "    u, v = numpy.empty((Nx, Ny), dtype=float), numpy.empty((Nx, Ny), dtype=float)\n",
    "    \n",
    "    for i in xrange(Nx):\n",
    "        for j in xrange(Ny):\n",
    "            u[i,j] = freestream.u_inf*math.cos(freestream.alpha)\\\n",
    "                     + 0.5/math.pi*sum([p.sigma*integral(X[i,j], Y[i,j], p, 1, 0) for p in panels])\n",
    "            v[i,j] = freestream.u_inf*math.sin(freestream.alpha)\\\n",
    "                     + 0.5/math.pi*sum([p.sigma*integral(X[i,j], Y[i,j], p, 0, 1) for p in panels])\n",
    "    \n",
    "    return u, v"
   ]
  },
  {
   "cell_type": "code",
   "execution_count": 10,
   "metadata": {
    "collapsed": true
   },
   "outputs": [],
   "source": [
    "def build_matrix(panels):\n",
    "    \"\"\"Builds the matrix of the linear system.\n",
    "    \n",
    "    Arguments\n",
    "    ---------\n",
    "    panels -- array of panels.\n",
    "    \n",
    "    Returns\n",
    "    -------\n",
    "    A -- (N+2)x(N+2) matrix (N is the number of panels).\n",
    "    \"\"\"\n",
    "    N = len(panels)\n",
    "    ak = numpy.empty((2,N+2), dtype=float)\n",
    "    a_t = numpy.zeros((N,N+2), dtype=float)\n",
    "    at1, at2 = numpy.zeros((N), dtype=float), numpy.zeros((N), dtype=float)\n",
    "    av = numpy.empty((N,2), dtype=float)\n",
    "    A = numpy.empty((N+2,N+2), dtype=float)\n",
    "    \n",
    "    Bn = numpy.empty((N,N), dtype=float)\n",
    "    numpy.fill_diagonal(Bn, 0.0)\n",
    "    \n",
    "    An = source_matrix(panels)\n",
    "    \n",
    "    for i, p_i in enumerate(panels):\n",
    "        for j, p_j in enumerate(panels):\n",
    "            if i != j:\n",
    "                Bn[i,j] = -0.5/numpy.pi*integral(p_i.xc, p_i.yc, p_j, numpy.sin(p_i.beta), -numpy.cos(p_i.beta))\n",
    "    \n",
    "    for i, p_i in enumerate(panels):\n",
    "        av[i,0] = numpy.sum(Bn[i,:N/2])\n",
    "        av[i,1] = numpy.sum(Bn[i,N/2:])\n",
    "                \n",
    "    for i, p_i in enumerate(panels):\n",
    "        at1[i] = numpy.sum(An[i,:N/2])\n",
    "        at2[i] = numpy.sum(An[i,N/2:])\n",
    "    \n",
    "    a_t[:N,:N] = Bn\n",
    "    a_t[:,-2], a_t[:,-1] = -at1, -at2\n",
    "    \n",
    "    ak[0,:], ak[1,:] = a_t[0,:] + a_t[N/2-1,:], a_t[N/2,:] + a_t[-1,:]\n",
    "    \n",
    "    A[0:N,0:N], A[0:N,N:], A[N:,:] = An, av, ak\n",
    "    \n",
    "    return A, a_t"
   ]
  },
  {
   "cell_type": "code",
   "execution_count": 11,
   "metadata": {
    "collapsed": true
   },
   "outputs": [],
   "source": [
    "def source_matrix(panels):\n",
    "    \"\"\"Builds the source matrix.\n",
    "    \n",
    "    Arguments\n",
    "    ---------\n",
    "    panels -- array of panels.\n",
    "    \n",
    "    Returns\n",
    "    -------\n",
    "    A -- NxN matrix (N is the number of panels).\n",
    "    \"\"\"\n",
    "    N = len(panels)\n",
    "    A = numpy.empty((N, N), dtype=float)\n",
    "    numpy.fill_diagonal(A, 0.5)\n",
    "    \n",
    "    for i, p_i in enumerate(panels):\n",
    "        for j, p_j in enumerate(panels):\n",
    "            if i != j:\n",
    "                A[i,j] = 0.5/math.pi*integral(p_i.xc, p_i.yc, p_j, math.cos(p_i.beta), math.sin(p_i.beta))\n",
    "    \n",
    "    return A"
   ]
  },
  {
   "cell_type": "code",
   "execution_count": 36,
   "metadata": {
    "collapsed": false
   },
   "outputs": [],
   "source": [
    "x_wing,y_wing = numpy.loadtxt(open(\"../AeroPython/lessons/resources/MainFoil_N=100.csv\",\"rb\"),delimiter=\",\",skiprows=0,unpack=True) \n",
    "x_flap,y_flap = numpy.loadtxt(open(\"../AeroPython/lessons/resources/FlapFoil_N=100.csv\",\"rb\"),delimiter=\",\",skiprows=0,unpack=True)  "
   ]
  },
  {
   "cell_type": "code",
   "execution_count": 37,
   "metadata": {
    "collapsed": true
   },
   "outputs": [],
   "source": [
    "Nx=100\n",
    "Ny=100\n",
    "N=Nx-1"
   ]
  },
  {
   "cell_type": "code",
   "execution_count": 42,
   "metadata": {
    "collapsed": false,
    "scrolled": true
   },
   "outputs": [
    {
     "data": {
      "image/png": "[encoded data removed]",
      "text/plain": [
       "<matplotlib.figure.Figure at 0x8291a90>"
      ]
     },
     "metadata": {},
     "output_type": "display_data"
    }
   ],
   "source": [
    "pyplot.figure(figsize=(12,2))\n",
    "pyplot.plot(x_wing, y_wing, x_flap, y_flap,  color='k', linestyle='-', linewidth=1);\n",
    "pyplot.grid(True)\n",
    "panel_main, panel_flap = define_panels(x_wing, y_wing, N), define_panels(x_flap, y_flap, N)\n",
    "pyplot.scatter([panel.xa for panel in panel_main], [panel.ya for panel in panel_main], color='b');\n",
    "pyplot.scatter([panel.xa for panel in panel_flap], [panel.ya for panel in panel_flap], color='b');\n"
   ]
  },
  {
   "cell_type": "code",
   "execution_count": null,
   "metadata": {
    "collapsed": true
   },
   "outputs": [],
   "source": [
    "u_freestream=1\n",
    "alpha=0\n",
    "N_main=len(x_wing)-1\n",
    "N_flap=len(x_flap)-1"
   ]
  }
 ],
 "metadata": {
  "anaconda-cloud": {},
  "kernelspec": {
   "display_name": "Python [default]",
   "language": "python",
   "name": "python3"
  },
  "language_info": {
   "codemirror_mode": {
    "name": "ipython",
    "version": 3
   },
   "file_extension": ".py",
   "mimetype": "text/x-python",
   "name": "python",
   "nbconvert_exporter": "python",
   "pygments_lexer": "ipython3",
   "version": "3.5.2"
  }
 },
 "nbformat": 4,
 "nbformat_minor": 1
}
