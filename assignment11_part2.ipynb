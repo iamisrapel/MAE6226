{
 "cells": [
  {
   "cell_type": "code",
   "execution_count": 1,
   "metadata": {
    "collapsed": true
   },
   "outputs": [],
   "source": [
    "import numpy\n",
    "import math\n",
    "from matplotlib import pyplot\n",
    "%matplotlib inline"
   ]
  },
  {
   "cell_type": "code",
   "execution_count": 2,
   "metadata": {
    "collapsed": true
   },
   "outputs": [],
   "source": [
    "class Panel:\n",
    "    \"\"\"Contains information related to one panel.\"\"\"\n",
    "    def __init__(self, xa, ya, xb, yb):\n",
    "        \"\"\"Creates a panel.\n",
    "        \n",
    "        Arguments\n",
    "        ---------\n",
    "        xa, ya -- Cartesian coordinates of the first end-point.\n",
    "        xb, yb -- Cartesian coordinates of the second end-point.\n",
    "        \"\"\"\n",
    "        self.xa, self.ya = xa, ya\n",
    "        self.xb, self.yb = xb, yb\n",
    "        \n",
    "        self.xc, self.yc = (xa+xb)/2, (ya+yb)/2       # control-point (center-point)\n",
    "        self.length = math.sqrt((xb-xa)**2+(yb-ya)**2)     # length of the panel\n",
    "        \n",
    "        # orientation of the panel (angle between x-axis and panel's normal)\n",
    "        if xb-xa <= 0.:\n",
    "            self.beta = math.acos((yb-ya)/self.length)\n",
    "        elif xb-xa > 0.:\n",
    "            self.beta = math.pi + math.acos(-(yb-ya)/self.length)\n",
    "        \n",
    "        # location of the panel\n",
    "        if self.beta <= math.pi:\n",
    "            self.loc = 'extrados'\n",
    "        else:\n",
    "            self.loc = 'intrados'\n",
    "        \n",
    "        self.sigma = 0.                             # source strength\n",
    "        self.vt = 0.                                # tangential velocity\n",
    "        self.cp = 0.                                # pressure coefficient\n",
    "\n",
    "class Freestream:\n",
    "    \"\"\"Freestream conditions.\"\"\"\n",
    "    def __init__(self, u_inf, alpha):\n",
    "        \"\"\"Sets the freestream conditions.\n",
    "        \n",
    "        Arguments\n",
    "        ---------\n",
    "        u_inf -- Farfield speed (default 1.0).\n",
    "        alpha -- Angle of attack in degrees (default 0.0).\n",
    "        \"\"\"\n",
    "        self.u_inf = u_inf\n",
    "        self.alpha = alpha*math.pi/180          # degrees --> radians\n",
    "        \n",
    "def define_panels(x, y, N):\n",
    "    \"\"\"Discretizes the geometry into panels using input arrays for the ends of the panels.\n",
    "    \n",
    "    Arguments\n",
    "    ---------\n",
    "    x, y -- Cartesian coordinates of the panel endpoints.\n",
    "    N - number of panels.\n",
    "    \n",
    "    Returns\n",
    "    -------\n",
    "    panels -- Numpy array of panels.\n",
    "    \"\"\"\n",
    "    x_ends, y_ends = x, y\n",
    "    panels = numpy.empty(N, dtype=object)\n",
    "    \n",
    "    for i in range(N):\n",
    "        panels[i] = Panel(x_ends[i], y_ends[i], x_ends[i+1], y_ends[i+1])\n",
    "    \n",
    "    return panels\n",
    "\n",
    "def integral(x, y, panel, dxdz, dydz):\n",
    "    \"\"\"Evaluates the contribution of a panel at one point.\n",
    "    \n",
    "    Arguments\n",
    "    ---------\n",
    "    x, y -- Cartesian coordinates of the point.\n",
    "    panel -- panel which contribution is evaluated.\n",
    "    dxdz -- derivative of x in the z-direction.\n",
    "    dydz -- derivative of y in the z-direction.\n",
    "    \n",
    "    Returns\n",
    "    -------\n",
    "    Integral over the panel of the influence at one point.\n",
    "    \"\"\"\n",
    "    def func(s):\n",
    "        return ( ((x - (panel.xa - math.sin(panel.beta)*s))*dxdz \n",
    "                  + (y - (panel.ya + math.cos(panel.beta)*s))*dydz)\n",
    "                / ((x - (panel.xa - math.sin(panel.beta)*s))**2 \n",
    "                   + (y - (panel.ya + math.cos(panel.beta)*s))**2) )\n",
    "    return integrate.quad(lambda s:func(s), 0., panel.length)[0]\n",
    "\n",
    "def build_rhs(panels, freestream):\n",
    "    \"\"\"Builds the RHS of the linear system.\n",
    "    \n",
    "    Arguments\n",
    "    ---------\n",
    "    panels -- array of panels.\n",
    "    freestream -- farfield conditions.\n",
    "    \n",
    "    Returns\n",
    "    -------\n",
    "    b -- 1D array ((N+2), N is the number of panels).\n",
    "    \"\"\"\n",
    "    N = len(panels)\n",
    "    b = numpy.empty(N+2,dtype=float)\n",
    "    \n",
    "    for i, panel in enumerate(panels):\n",
    "        b[i] = - freestream.u_inf * math.cos(freestream.alpha - panel.beta)\n",
    "    \n",
    "    b[N] = -freestream.u_inf*( math.sin(freestream.alpha-panels[0].beta)\n",
    "                              +math.sin(freestream.alpha-panels[(N/2)-1].beta) )\n",
    "    b[N+1] = -freestream.u_inf*( math.sin(freestream.alpha-panels[(N/2)].beta)\n",
    "                              +math.sin(freestream.alpha-panels[N-1].beta) )\n",
    "    \n",
    "    return b\n",
    "\n",
    "def get_tangential_velocity(panels, freestream, gamma, At):\n",
    "    \"\"\"Computes the tangential velocity on the surface.\n",
    "    \n",
    "    Arguments\n",
    "    ---------\n",
    "    panels -- array of panels.\n",
    "    freestream -- farfield conditions.\n",
    "    gamma -- circulation density.\n",
    "    \"\"\"\n",
    "    N = len(panels)\n",
    "    \n",
    "    var = numpy.append([panel.sigma for panel in panels], gamma)\n",
    "    \n",
    "    b = freestream.u_inf * numpy.sin([freestream.alpha - panel.beta for panel in panels])\n",
    "    vt = numpy.dot(At, var) + b\n",
    "    \n",
    "    for i, panel in enumerate(panels):\n",
    "        panel.vt = vt[i]\n",
    "\n",
    "def get_pressure_coefficient(panels, freestream):\n",
    "    \"\"\"Computes the surface pressure coefficients.\n",
    "    \n",
    "    Arguments\n",
    "    ---------\n",
    "    panels -- array of panels.\n",
    "    freestream -- farfield conditions.\n",
    "    \"\"\"\n",
    "    for panel in panels:\n",
    "        panel.cp = 1.0 - (panel.vt/freestream.u_inf)**2\n",
    "\n",
    "def get_velocity_field(panels, freestream, X, Y):\n",
    "    \"\"\"Returns the velocity field.\n",
    "    \n",
    "    Arguments\n",
    "    ---------\n",
    "    panels -- array of panels.\n",
    "    freestream -- farfield conditions.\n",
    "    X, Y -- mesh grid.\n",
    "    \"\"\"\n",
    "    Nx, Ny = X.shape\n",
    "    u, v = numpy.empty((Nx, Ny), dtype=float), numpy.empty((Nx, Ny), dtype=float)\n",
    "    \n",
    "    for i in range(Nx):\n",
    "        for j in range(Ny):\n",
    "            u[i,j] = freestream.u_inf*math.cos(freestream.alpha)\\\n",
    "                     + 0.5/math.pi*sum([p.sigma*integral(X[i,j], Y[i,j], p, 1, 0) for p in panels])\n",
    "            v[i,j] = freestream.u_inf*math.sin(freestream.alpha)\\\n",
    "                     + 0.5/math.pi*sum([p.sigma*integral(X[i,j], Y[i,j], p, 0, 1) for p in panels])\n",
    "    \n",
    "    return u, v\n",
    "\n",
    "def build_matrix(panels):\n",
    "    \"\"\"Builds the matrix of the linear system.\n",
    "    \n",
    "    Arguments\n",
    "    ---------\n",
    "    panels -- array of panels.\n",
    "    \n",
    "    Returns\n",
    "    -------\n",
    "    A -- (N+2)x(N+2) matrix (N is the number of panels).\n",
    "    \"\"\"\n",
    "    N = len(panels)\n",
    "    ak = numpy.empty((2,N+2), dtype=float)\n",
    "    a_t = numpy.zeros((N,N+2), dtype=float)\n",
    "    at1, at2 = numpy.zeros((N), dtype=float), numpy.zeros((N), dtype=float)\n",
    "    av = numpy.empty((N,2), dtype=float)\n",
    "    A = numpy.empty((N+2,N+2), dtype=float)\n",
    "    \n",
    "    Bn = numpy.empty((N,N), dtype=float)\n",
    "    numpy.fill_diagonal(Bn, 0.0)\n",
    "    \n",
    "    An = source_matrix(panels)\n",
    "    \n",
    "    for i, p_i in enumerate(panels):\n",
    "        for j, p_j in enumerate(panels):\n",
    "            if i != j:\n",
    "                Bn[i,j] = -0.5/numpy.pi*integral(p_i.xc, p_i.yc, p_j, numpy.sin(p_i.beta), -numpy.cos(p_i.beta))\n",
    "    \n",
    "    for i, p_i in enumerate(panels):\n",
    "        av[i,0] = numpy.sum(Bn[i,:N/2])\n",
    "        av[i,1] = numpy.sum(Bn[i,N/2:])\n",
    "                \n",
    "    for i, p_i in enumerate(panels):\n",
    "        at1[i] = numpy.sum(An[i,:N/2])\n",
    "        at2[i] = numpy.sum(An[i,N/2:])\n",
    "    \n",
    "    a_t[:N,:N] = Bn\n",
    "    a_t[:,-2], a_t[:,-1] = -at1, -at2\n",
    "    \n",
    "    ak[0,:], ak[1,:] = a_t[0,:] + a_t[N/2-1,:], a_t[N/2,:] + a_t[-1,:]\n",
    "    \n",
    "    A[0:N,0:N], A[0:N,N:], A[N:,:] = An, av, ak\n",
    "    \n",
    "    return A, a_t\n",
    "\n",
    "def source_matrix(panels):\n",
    "    \"\"\"Builds the source matrix.\n",
    "    \n",
    "    Arguments\n",
    "    ---------\n",
    "    panels -- array of panels.\n",
    "    \n",
    "    Returns\n",
    "    -------\n",
    "    A -- NxN matrix (N is the number of panels).\n",
    "    \"\"\"\n",
    "    N = len(panels)\n",
    "    A = numpy.empty((N, N), dtype=float)\n",
    "    numpy.fill_diagonal(A, 0.5)\n",
    "    \n",
    "    for i, p_i in enumerate(panels):\n",
    "        for j, p_j in enumerate(panels):\n",
    "            if i != j:\n",
    "                A[i,j] = 0.5/math.pi*integral(p_i.xc, p_i.yc, p_j, math.cos(p_i.beta), math.sin(p_i.beta))\n",
    "    \n",
    "    return A\n",
    "\n",
    "def get_cp(panels, freestream):\n",
    "    \"\"\"Computes the surface pressure coefficients.\n",
    "    \n",
    "    Arguments\n",
    "    ---------\n",
    "    panels -- array of panels.\n",
    "    freestream -- farfield conditions.\n",
    "    \"\"\"\n",
    "    for panel in panels:\n",
    "        panel.cp = 1.0 - (panel.vt/freestream.u_inf)**2\n",
    "        \n",
    "def theta_rotate(xf, yf, xc, yc, theta):\n",
    "    \"\"\"Rotates the foil about a point.\n",
    "    \n",
    "    Arguments\n",
    "    ---------\n",
    "    xf, yf -- arrays of panel endpoints.\n",
    "    xc, yc -- scalar xy location of rotation center\n",
    "    theta -- angle of rotation measured CCW\n",
    "    \n",
    "    Returns\n",
    "    -------\n",
    "    xf2,yf2 -- arrays of rotated points.\n",
    "    \"\"\"   \n",
    "    theta = theta * math.pi / 180.\n",
    "    \n",
    "    xf, yf = xf - xc, yf - yc\n",
    "\n",
    "    xf = xf * math.cos(theta) + yf * math.sin(theta)\n",
    "    yf = -xf * math.sin(theta) + yf * math.cos(theta)\n",
    "\n",
    "    xf2, yf2 = xf + xc, yf + yc\n",
    "    \n",
    "    return xf2, yf2"
   ]
  },
  {
   "cell_type": "code",
   "execution_count": 3,
   "metadata": {
    "collapsed": true
   },
   "outputs": [],
   "source": [
    "u_inf = 1.0\n",
    "N2 = 150;\n",
    "err = 1."
   ]
  },
  {
   "cell_type": "code",
   "execution_count": 4,
   "metadata": {
    "collapsed": false
   },
   "outputs": [],
   "source": [
    "x_wing,y_wing = numpy.loadtxt(open(\"../AeroPython/lessons/resources/NACA23012_MainFoil.csv\",\"rb\"),delimiter=\",\",skiprows=0,unpack=True) \n",
    "x_flap,y_flap = numpy.loadtxt(open(\"../AeroPython/lessons/resources/NACA23012_FlapFoil.csv\",\"rb\"),delimiter=\",\",skiprows=0,unpack=True)  "
   ]
  },
  {
   "cell_type": "code",
   "execution_count": 5,
   "metadata": {
    "collapsed": true
   },
   "outputs": [],
   "source": [
    "x_h=1.03\n",
    "y_h = -0.054 "
   ]
  },
  {
   "cell_type": "code",
   "execution_count": 6,
   "metadata": {
    "collapsed": false,
    "scrolled": true
   },
   "outputs": [
    {
     "data": {
      "text/plain": [
       "(-0.25, 0.25)"
      ]
     },
     "execution_count": 6,
     "metadata": {},
     "output_type": "execute_result"
    },
    {
     "data": {
      "image/png": "[encoded data removed]",
      "text/plain": [
       "<matplotlib.figure.Figure at 0x22a543af160>"
      ]
     },
     "metadata": {},
     "output_type": "display_data"
    }
   ],
   "source": [
    "pyplot.figure(figsize=(12,2))\n",
    "pyplot.plot(x_wing, y_wing, x_flap, y_flap,  color='k', linestyle='-', linewidth=1);\n",
    "pyplot.grid(True)\n",
    "panel_main, panel_flap = define_panels(x_wing, y_wing, N2), define_panels(x_flap, y_flap, N2)\n",
    "pyplot.xlim(-0.5, 1.5)\n",
    "pyplot.ylim(-0.25, 0.25)"
   ]
  },
  {
   "cell_type": "code",
   "execution_count": 8,
   "metadata": {
    "collapsed": true
   },
   "outputs": [],
   "source": [
    "from scipy import integrate"
   ]
  },
  {
   "cell_type": "code",
   "execution_count": 12,
   "metadata": {
    "collapsed": false
   },
   "outputs": [],
   "source": [
    "alpha1 = -14.\n",
    "alpha2 = 14.\n",
    "li = alpha1 + alpha2\n",
    "length = (numpy.max(x_wing) - numpy.min(x_wing) + (numpy.max(x_flap) - numpy.min(x_flap)))\n",
    "\n",
    "xc, yc = 1.03, -0.054\n",
    "theta_all = [0., 5., 10., 15.]\n",
    "lift = numpy.empty_like(theta_all)\n",
    "drag = numpy.empty_like(theta_all)\n",
    "Lc = numpy.empty_like(theta_all)\n",
    "loss = numpy.empty_like(theta_all)"
   ]
  },
  {
   "cell_type": "code",
   "execution_count": 17,
   "metadata": {
    "collapsed": false
   },
   "outputs": [
    {
     "name": "stderr",
     "output_type": "stream",
     "text": [
      "C:\\Users\\55468\\Anaconda3\\lib\\site-packages\\ipykernel\\__main__.py:190: VisibleDeprecationWarning: using a non-integer number instead of an integer will result in an error in the future\n",
      "C:\\Users\\55468\\Anaconda3\\lib\\site-packages\\ipykernel\\__main__.py:191: VisibleDeprecationWarning: using a non-integer number instead of an integer will result in an error in the future\n",
      "C:\\Users\\55468\\Anaconda3\\lib\\site-packages\\ipykernel\\__main__.py:194: VisibleDeprecationWarning: using a non-integer number instead of an integer will result in an error in the future\n",
      "C:\\Users\\55468\\Anaconda3\\lib\\site-packages\\ipykernel\\__main__.py:195: VisibleDeprecationWarning: using a non-integer number instead of an integer will result in an error in the future\n",
      "C:\\Users\\55468\\Anaconda3\\lib\\site-packages\\ipykernel\\__main__.py:200: VisibleDeprecationWarning: using a non-integer number instead of an integer will result in an error in the future\n",
      "C:\\Users\\55468\\Anaconda3\\lib\\site-packages\\ipykernel\\__main__.py:106: VisibleDeprecationWarning: using a non-integer number instead of an integer will result in an error in the future\n",
      "C:\\Users\\55468\\Anaconda3\\lib\\site-packages\\ipykernel\\__main__.py:107: VisibleDeprecationWarning: using a non-integer number instead of an integer will result in an error in the future\n"
     ]
    }
   ],
   "source": [
    "for i, theta in enumerate(theta_all):\n",
    "    lift[i] = 0.\n",
    "    xfnew, yfnew = theta_rotate(x_flap, y_flap, x_h, y_h, theta)\n",
    "    panel_main = define_panels(x_wing, y_wing, N2)\n",
    "    panel_flap = define_panels(xfnew, yfnew, N2)\n",
    "    panels = numpy.append(panel_main, panel_flap)\n",
    "    freestream = Freestream(u_inf, 4.)\n",
    "    A, At = build_matrix(panels)\n",
    "    b = build_rhs(panels, freestream)\n",
    "    variables = numpy.linalg.solve(A,b)\n",
    "\n",
    "    for j, panel in enumerate(panels):\n",
    "        panel.sigma = variables[j]\n",
    "\n",
    "    gamma = variables[-2:]\n",
    "    get_tangential_velocity(panels, freestream, gamma, At)\n",
    "    get_cp(panels, freestream)\n",
    "\n",
    "    for panel in panels:\n",
    "        lift[i] -= panel.cp * panel.length * math.sin(panel.beta)\n",
    "        drag[i] += panel.cp * panel.length * math.cos(panel.beta)\n",
    "\n",
    "    Lc[i] = lift[i] / length"
   ]
  },
  {
   "cell_type": "code",
   "execution_count": 18,
   "metadata": {
    "collapsed": false
   },
   "outputs": [
    {
     "data": {
      "text/plain": [
       "14.411837199462829"
      ]
     },
     "execution_count": 18,
     "metadata": {},
     "output_type": "execute_result"
    }
   ],
   "source": [
    "100 * (1 - 1/numpy.sqrt(lift[1] / lift[0]))"
   ]
  },
  {
   "cell_type": "code",
   "execution_count": 19,
   "metadata": {
    "collapsed": false
   },
   "outputs": [
    {
     "data": {
      "text/plain": [
       "23.766926119193833"
      ]
     },
     "execution_count": 19,
     "metadata": {},
     "output_type": "execute_result"
    }
   ],
   "source": [
    "100 * (1 - 1/numpy.sqrt(lift[2] / lift[0]))"
   ]
  },
  {
   "cell_type": "code",
   "execution_count": 20,
   "metadata": {
    "collapsed": false
   },
   "outputs": [
    {
     "data": {
      "text/plain": [
       "30.258640252869984"
      ]
     },
     "execution_count": 20,
     "metadata": {},
     "output_type": "execute_result"
    }
   ],
   "source": [
    "100 * (1 - 1/numpy.sqrt(lift[3] / lift[0]))"
   ]
  },
  {
   "cell_type": "code",
   "execution_count": null,
   "metadata": {
    "collapsed": true
   },
   "outputs": [],
   "source": []
  }
 ],
 "metadata": {
  "kernelspec": {
   "display_name": "Python [Root]",
   "language": "python",
   "name": "Python [Root]"
  },
  "language_info": {
   "codemirror_mode": {
    "name": "ipython",
    "version": 3
   },
   "file_extension": ".py",
   "mimetype": "text/x-python",
   "name": "python",
   "nbconvert_exporter": "python",
   "pygments_lexer": "ipython3",
   "version": "3.5.2"
  }
 },
 "nbformat": 4,
 "nbformat_minor": 0
}
